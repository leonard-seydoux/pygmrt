{
 "cells": [
  {
   "cell_type": "markdown",
   "id": "e8f7f3f2",
   "metadata": {},
   "source": [
    "# Antimeridian crossing example\n",
    "\n",
    "Demonstrate a bbox that crosses the antimeridian. The downloader automatically splits the longitude range into two requests.\n",
    "\n",
    "- Example bbox: [170.0, -5.0, -170.0, 5.0] (wraps across ±180°)"
   ]
  },
  {
   "cell_type": "code",
   "execution_count": null,
   "id": "2dc8c599",
   "metadata": {},
   "outputs": [],
   "source": [
    "from pathlib import Path\n",
    "from pygmrt.tiles import download_tiles, get_path\n",
    "\n",
    "bbox = [170.0, -5.0, -170.0, 5.0]\n",
    "save_directory = \"./data\"\n",
    "\n",
    "dr = download_tiles(\n",
    "    bbox=bbox, save_directory=save_directory, resolution=\"low\", overwrite=False\n",
    ")\n",
    "tif = get_path(dr)\n",
    "tif"
   ]
  },
  {
   "cell_type": "code",
   "execution_count": null,
   "id": "02c086a1",
   "metadata": {},
   "outputs": [],
   "source": []
  }
 ],
 "metadata": {
  "language_info": {
   "name": "python"
  }
 },
 "nbformat": 4,
 "nbformat_minor": 5
}
