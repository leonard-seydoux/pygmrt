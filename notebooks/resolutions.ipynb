{
 "cells": [
  {
   "cell_type": "markdown",
   "id": "54b3cac6",
   "metadata": {},
   "source": [
    "# Compare resolutions (low/medium/high)\n",
    "\n",
    "Download the same area at three named resolutions to compare speed and output size.\n",
    "\n",
    "- Area: La Réunion (bbox: [55.0, -21.5, 56.0, -20.5])\n",
    "- Provider: GMRT GridServer (GeoTIFF)"
   ]
  },
  {
   "cell_type": "code",
   "execution_count": 3,
   "id": "88671905",
   "metadata": {},
   "outputs": [
    {
     "data": {
      "text/plain": [
       "{'low': {'path': 'data/gmrt_50.000_-25.000_55.000_0.000.tif',\n",
       "  'size_mb': 0.4,\n",
       "  'shape': (737, 143)},\n",
       " 'medium': {'path': 'data/gmrt_50.000_-25.000_55.000_0.000.tif',\n",
       "  'size_mb': 0.4,\n",
       "  'shape': (737, 143)},\n",
       " 'high': {'path': 'data/gmrt_50.000_-25.000_55.000_0.000.tif',\n",
       "  'size_mb': 0.4,\n",
       "  'shape': (737, 143)}}"
      ]
     },
     "execution_count": 3,
     "metadata": {},
     "output_type": "execute_result"
    }
   ],
   "source": [
    "from pathlib import Path\n",
    "from pygmrt.tiles import download_tiles, get_path\n",
    "import rasterio\n",
    "\n",
    "bbox = [50.0, -25, 55.0, 0]\n",
    "save_directory = \"./data\"\n",
    "\n",
    "results = {}\n",
    "for res in [\"low\", \"medium\", \"high\"]:\n",
    "    dr = download_tiles(\n",
    "        bbox=bbox,\n",
    "        save_directory=save_directory,\n",
    "        resolution=res,\n",
    "        overwrite=True,\n",
    "    )\n",
    "    tif = get_path(dr)\n",
    "    size_mb = Path(tif).stat().st_size / (1024 * 1024)\n",
    "    with rasterio.open(tif) as src:\n",
    "        shape = (src.height, src.width)\n",
    "    results[res] = {\n",
    "        \"path\": str(tif),\n",
    "        \"size_mb\": round(size_mb, 2),\n",
    "        \"shape\": shape,\n",
    "    }\n",
    "\n",
    "results"
   ]
  }
 ],
 "metadata": {
  "kernelspec": {
   "display_name": "pygmrt (.venv)",
   "language": "python",
   "name": "pygmrt-venv"
  },
  "language_info": {
   "codemirror_mode": {
    "name": "ipython",
    "version": 3
   },
   "file_extension": ".py",
   "mimetype": "text/x-python",
   "name": "python",
   "nbconvert_exporter": "python",
   "pygments_lexer": "ipython3",
   "version": "3.13.7"
  }
 },
 "nbformat": 4,
 "nbformat_minor": 5
}
